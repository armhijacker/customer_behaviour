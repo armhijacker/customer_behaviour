{
 "cells": [
  {
   "cell_type": "markdown",
   "id": "3a9c6641",
   "metadata": {},
   "source": [
    "### Git Basic "
   ]
  },
  {
   "cell_type": "markdown",
   "id": "a24fcea5",
   "metadata": {},
   "source": [
    "`.gitignore` tells git which files (or patterns) it should ignore.\n",
    "\n",
    "It's usually used to avoid committing transient files from your working\n",
    "directory that aren't useful to other collaborators,\n",
    "such as compilation products, temporary files IDEs create, etc.\n",
    "\n",
    "`touch .gitignore` - you can add the following patterns to tell git to ignore such files.\n"
   ]
  },
  {
   "cell_type": "markdown",
   "id": "bfbabcc6",
   "metadata": {},
   "source": [
    "Cloning Already Extisting Github Repo (and other Basic Stuff ) \n",
    "\n",
    "* `git clone https...` -> Clone Remote Repository to your local env\n",
    "* `git push --set-upstream origin/master` -> Push your local branch to remote\n",
    "* `git push origin -d branchname` -> Delete remote Branch\n",
    "\n",
    "* `git status` -> Show Modifications/Diff between local and remote \n",
    "* `git branch -a` -> Check what kind of branches we have\n",
    "\n",
    "* `git checkout -b branchname` -> Copy master into separate branch in local env\n",
    "\n",
    "* `git add filename` -> Add new or modified files to git (use . for all files) \n",
    "* `git commit -m \"message\"` -> Commit your changes to git\n",
    "* `git push` -> Send your local modified/new files to remote\n",
    "\n",
    "* `git pull` -> Pull all kind of information from remote to local\n",
    "* `git branch -d` -> Delete local Branch \n",
    "\n",
    "* `git stash` -> Save your local changes\n",
    "* `git unstash` -> Apply your local changes "
   ]
  },
  {
   "cell_type": "markdown",
   "id": "3acfcb67",
   "metadata": {},
   "source": [
    "Create New Repo\n",
    "\n",
    "* `git config --global user.name` \"YOUR_USERNAME\n",
    "* `git config --global user.email` \"im_satoshi@musk.com\n",
    "* `git config --global --list` # To check the info you just provide\n",
    "* `touch README.md`    # To create a README file for the repository\n",
    "* `git init` \n",
    "\n",
    "\n",
    "* `git reset HEAD~1` -> Uncommit Changes (Hard, Soft, Mixed) \n",
    "* `git revert commitid` -> Uncommit Changes (back to particular commit) \n",
    "\n",
    "\n",
    "* `git remote add origin remote_repository_URL`\n",
    "* `git remote -v`\n",
    "* `git push -u origin master` # pushes changes to origin\n",
    "\n",
    "\n",
    "* `git diff` # To show the files changes not yet staged\n",
    "* `git log`\n",
    "\n",
    "* `git merge + git fetch =  git pull`\n"
   ]
  },
  {
   "cell_type": "code",
   "execution_count": null,
   "id": "c349cfe4",
   "metadata": {},
   "outputs": [],
   "source": []
  }
 ],
 "metadata": {
  "kernelspec": {
   "display_name": "Python 3 (ipykernel)",
   "language": "python",
   "name": "python3"
  },
  "language_info": {
   "codemirror_mode": {
    "name": "ipython",
    "version": 3
   },
   "file_extension": ".py",
   "mimetype": "text/x-python",
   "name": "python",
   "nbconvert_exporter": "python",
   "pygments_lexer": "ipython3",
   "version": "3.9.12"
  }
 },
 "nbformat": 4,
 "nbformat_minor": 5
}
