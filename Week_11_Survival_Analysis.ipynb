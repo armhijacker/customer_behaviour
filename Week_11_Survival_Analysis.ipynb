{
 "cells": [
  {
   "cell_type": "markdown",
   "metadata": {},
   "source": [
    "# What is Survival Analysis?\n",
    "\n",
    "[Survival analysis](https://en.wikipedia.org/wiki/Survival_analysis) is used to study the **time** until some **event** of interest (often referred to as **death**) occurs.  Time could be measured in years, months, weeks, days, etc.  The event could be anything of interest.  It could be an actual death, a birth, a customer or employee churn, etc. In this case we are interested in how long a patient with lung disease will survive, so the event of interest will be the death. The duration of time leading up to the event of interest can be called the **survival time**. \n",
    "\n",
    "Some of the patients in this analysis are still alive, so we haven't observed their event of interest.  Those patients are considered **censored**. This specific type of censorship, one in which we do not observe end of the survival time, is called **right-censorship**.  The methods developed in the field of survival analysis were created in order to deal with the issue of censored data.  We are goint to use the [Kaplan-Meier estimator](https://en.wikipedia.org/wiki/Kaplan%E2%80%93Meier_estimator), to estimate the survival function and construct the survival curve for patients.\n",
    "\n",
    "\n",
    "# What is the Survival Function?\n",
    "\n",
    "The [survival function](https://en.wikipedia.org/wiki/Survival_function), $S(t)$, of a population is defined as follows:\n",
    "\n",
    "$$S(t) = Pr(T > t)$$\n",
    "\n",
    "Capital $T$ is a [random variable](https://www.khanacademy.org/math/probability/random-variables-topic/random-variables-prob-dist/v/random-variables) that represents a subject's survival time. In our case $T$ represents a patient's life length. Lower case $t$ represents a specific time of interest for $T$. In our analysis the $t$ represents a specific number of days being alive. In other words the survival function just gives us the probability that someone survives longer than (or at least as long as) a specified value of time, $t$.  So in the context of our analysis, $S(11)$ will provide us the probability that a patient life lasts longer than 11 days.\n",
    "\n",
    "# What is the Kaplan-Meier estimator?\n",
    "\n",
    "To estimate the survival function we will use the Kaplan-Meier estimator.  The Kaplan-Meier estimator is defined by the following product:\n",
    "\n",
    "$$\\hat{S}(t) = \\prod_{t_i \\lt t} \\frac{n_i - d_i}{n_i}$$\n",
    "\n",
    "where $d_i$ are the number of death events at time $t$ and $n_i$ is the number of subjects at risk of death just prior to time $t$. \n",
    "\n",
    "Kaplan-Meier is a non-parametric statistic that estimates the survival function of time-to-event data. Non-parametric because constructs a survival curve from collected data and does not assume underlying distribution\n",
    "\n",
    "To estimate the survival function we will be using the [`lifelines` library](https://lifelines.readthedocs.io/en/latest/index.html).  It provides a user friendly interface for survival analyis using Python. Lets get started by importing what we need and reading in the data."
   ]
  },
  {
   "cell_type": "code",
   "execution_count": null,
   "metadata": {},
   "outputs": [],
   "source": [
    "# Import required libraries :\n",
    "import os\n",
    "import pandas as pd\n",
    "import numpy as np\n",
    "import matplotlib.pyplot as plt\n",
    "\n",
    "# !pip install lifelines\n",
    "from lifelines import KaplanMeierFitter"
   ]
  },
  {
   "cell_type": "code",
   "execution_count": null,
   "metadata": {},
   "outputs": [],
   "source": [
    "filename = os.path.join(\"data\", \"lung.csv\")\n",
    "data = pd.read_csv(filename)\n",
    "data"
   ]
  },
  {
   "cell_type": "markdown",
   "metadata": {},
   "source": [
    "#### Feature describtion<br>\n",
    "inst:\tInstitution code<br>\n",
    "time:\tSurvival time in days<br>\n",
    "status:\tcensoring status 1=censored, 2=dead<br>\n",
    "age:\tAge in years<br>\n",
    "sex:\tMale=1 Female=2<br>\n",
    "ph.ecog:ECOG performance score as rated by the physician. 0=asymptomatic, 1= symptomatic but completely ambulatory, 2= in               bed <50% of the day, 3= in bed > 50% of the day but not bedbound, 4 = bedbound\n",
    "ph.karno:\tKarnofsky performance score (bad=0-good=100) rated by physician<br>\n",
    "pat.karno:\tKarnofsky performance score as rated by patient<br>\n",
    "meal.cal:\tCalories consumed at meals<br>\n",
    "wt.loss:\tWeight loss in last six months (pounds)<br>"
   ]
  },
  {
   "cell_type": "code",
   "execution_count": null,
   "metadata": {},
   "outputs": [],
   "source": [
    "# Additional info about our dataset :\n",
    "data.info()"
   ]
  },
  {
   "cell_type": "code",
   "execution_count": null,
   "metadata": {},
   "outputs": [],
   "source": [
    "# Statistical info about our dataset :\n",
    "data.describe()"
   ]
  },
  {
   "cell_type": "code",
   "execution_count": null,
   "metadata": {},
   "outputs": [],
   "source": [
    "sex_counts = data['sex'].value_counts()\n",
    "\n",
    "# Plotting the count of categories in 'sex'\n",
    "colors = ['blue', 'pink']  \n",
    "ax = sex_counts.plot(kind='bar', color=colors)\n",
    "\n",
    "plt.title('Count of Categories in Sex')\n",
    "plt.xlabel('Sex')\n",
    "plt.ylabel('Count')\n",
    "plt.xticks(rotation=0)  # Ensure the x-axis labels are horizontal\n",
    "\n",
    "# Adding count values on top of the bars\n",
    "for i, count in enumerate(sex_counts):\n",
    "    ax.text(i, count + 0.5, str(count), ha='center')\n",
    "\n",
    "plt.show()"
   ]
  },
  {
   "cell_type": "markdown",
   "metadata": {},
   "source": [
    "Out of 228 observations 138 are males and 90 are females"
   ]
  },
  {
   "cell_type": "code",
   "execution_count": null,
   "metadata": {},
   "outputs": [],
   "source": [
    "# Filter the DataFrame where status is 2\n",
    "filtered_df = data[data['status'] == 2]\n",
    "\n",
    "# Count the categories in the 'sex' column\n",
    "sex_counts_df = filtered_df['sex'].value_counts()\n",
    "\n",
    "# Plot the count of categories in 'sex' column when status=2\n",
    "sex_counts.plot(kind='bar', color=['blue', 'pink'])  \n",
    "ax = sex_counts_df.plot(kind='bar', color=colors)\n",
    "plt.title('Count of Deaths for males and females')\n",
    "plt.xlabel('Sex')\n",
    "plt.ylabel('Count')\n",
    "plt.xticks(rotation=0)  # Ensure the x-axis labels are horizontal\n",
    "\n",
    "# Adding count values on top of the bars\n",
    "for i, count in enumerate(sex_counts_df):\n",
    "    ax.text(i, count + 0.5, str(count), ha='center')\n",
    "\n",
    "plt.show()\n",
    "\n",
    "\n"
   ]
  },
  {
   "cell_type": "markdown",
   "metadata": {},
   "source": [
    "Overall, there are 165 cases of death, with 112 males and 53 females"
   ]
  },
  {
   "cell_type": "code",
   "execution_count": null,
   "metadata": {},
   "outputs": [],
   "source": [
    "# Group the data by 'sex' and calculate the mean age for each category\n",
    "avg_age_sex = filtered_df.groupby('sex')['age'].mean()\n",
    "\n",
    "# Plotting the average age for sex categories\n",
    "avg_age_sex.plot(kind='bar', color=['blue', 'pink'])  \n",
    "ax = avg_age_sex.plot(kind='bar', color=colors)\n",
    "plt.title('Average Age for males anf females of event occured')\n",
    "plt.xlabel('Sex')\n",
    "plt.ylabel('Average Age')\n",
    "plt.xticks(rotation=0)  # Ensure the x-axis labels are horizontal\n",
    "\n",
    "# Adding count values on top of the bars\n",
    "for i, count in enumerate(avg_age_sex):\n",
    "    ax.text(i, count + 0.5, '{:.2f}'.format(count), ha='center')\n",
    "\n",
    "\n",
    "plt.show()"
   ]
  },
  {
   "cell_type": "markdown",
   "metadata": {},
   "source": [
    "The mean age of the observed instances where the event occurred is quite consistent. On average, female patients have a life expectancy around 1.73 years lower in comparison to males."
   ]
  },
  {
   "cell_type": "code",
   "execution_count": null,
   "metadata": {},
   "outputs": [],
   "source": [
    "# Before fitting Kaplan-Meier Estimator, create a new column based on \"status\", where\n",
    "# if the status value is 1 we have censored data\n",
    "# if the status value is 2 we have the event occured (death)\n",
    "\n",
    "data.loc[data.status == 1, 'dead'] = 0\n",
    "data.loc[data.status == 2, 'dead'] = 1\n",
    "\n",
    "data.head()"
   ]
  },
  {
   "cell_type": "code",
   "execution_count": null,
   "metadata": {},
   "outputs": [],
   "source": [
    "# Create the K-M Fitter\n",
    "kmf = KaplanMeierFitter() "
   ]
  },
  {
   "cell_type": "code",
   "execution_count": null,
   "metadata": {},
   "outputs": [],
   "source": [
    "# The 1st argument takes an array or pd.Series of individual survival times\n",
    "# The 2nd argument takes an array or pd.Series that indicates if the event (death)\n",
    "\n",
    "kmf.fit(durations = data[\"time\"], event_observed = data[\"dead\"])"
   ]
  },
  {
   "cell_type": "code",
   "execution_count": null,
   "metadata": {},
   "outputs": [],
   "source": [
    "print(data.time.min())\n",
    "print(data.time.max())"
   ]
  },
  {
   "cell_type": "markdown",
   "metadata": {},
   "source": [
    "##### So the line above presents that out of 228 total observations we have 63 RIGHT CENSORED data"
   ]
  },
  {
   "cell_type": "code",
   "execution_count": null,
   "metadata": {},
   "outputs": [],
   "source": [
    "x = kmf.event_table"
   ]
  },
  {
   "cell_type": "code",
   "execution_count": null,
   "metadata": {
    "scrolled": true
   },
   "outputs": [],
   "source": [
    "for _, row in x.iterrows():\n",
    "    print(row['at_risk'], row['removed'], row['observed'])"
   ]
  },
  {
   "cell_type": "code",
   "execution_count": null,
   "metadata": {},
   "outputs": [],
   "source": [
    "kmf.event_table"
   ]
  },
  {
   "cell_type": "markdown",
   "metadata": {},
   "source": [
    "The *removed* column contains the number of observations removed during that time period, whether due to death (the value in the *observed* column) or censorship. So the *removed* column is just the sum of the *observed* and *censorship* columns.  The *entrance* column tells us whether any new subjects entered the population at that time period.  Since all the patients we are studying start at $time = 0$ , the *entrance* value is 228 at that time and 0 for all other times.\n",
    "\n",
    "The *at_risk* column contains the number of subjects that are still alive during a given time. The value for *at_risk* at $time = 0$, is just equal to the *entrance* value.  For the remaining time periods, the *at_risk* value is equal to the difference between the time previous period's *at_risk* value and *removed* value, plus the current period's *entrance* value. For example for $time = 11$, the number of subject's *at risk*  is 227 which is equal to 228 (the previous *at_risk* value) - 1 (the previous *removed* value) + 0 (the current period's *entrance* value).\n",
    "\n",
    "Since we have access to the survival table we can calculate the survival probability at different times \"by hand.\"\n",
    "\n",
    "Let us take a look at the definition of the Kaplan-Meier Estimate again:\n",
    "\n",
    "$$\\hat{S}(t) = \\prod_{t_i \\lt t} \\frac{n_i - d_i}{n_i}$$\n",
    "\n",
    "where  $d_i$  are the number of death events at time  $t$  and  $n_i$  is the number of subjects at risk of death just prior to time  $t$. \n",
    "\n",
    "What the above essentially tells us is that the value of the survival function for time $t$, is the product of the survival probabilities for all individual time periods leading up to time $t$. \n",
    "\n",
    "We can define the survival probability for an individual time period as follows:\n",
    "\n",
    "$$S_t = \\frac{\\substack{\\text{Number of subjects} \\\\ \\text{at risk at the start}} - \\substack{\\text{Number of subjects} \\\\ \\text{that died}}}{\\substack{\\text{Number of subjects} \\\\ \\text{at risk at the start}}}$$\n",
    "\n",
    "**NOTE** the number of deaths in the above formula does not include the number of censored observations.  "
   ]
  },
  {
   "cell_type": "markdown",
   "metadata": {},
   "source": [
    "<u>Get information about the time 0"
   ]
  },
  {
   "cell_type": "code",
   "execution_count": null,
   "metadata": {},
   "outputs": [],
   "source": [
    "event_at_0 = kmf.event_table.iloc[0,:]\n",
    "event_at_0"
   ]
  },
  {
   "cell_type": "markdown",
   "metadata": {},
   "source": [
    "<u> Get the survival probability at time 0"
   ]
  },
  {
   "cell_type": "code",
   "execution_count": null,
   "metadata": {},
   "outputs": [],
   "source": [
    "#calculate the survival probability for t=0\n",
    "surv_for_0 = (event_at_0.at_risk - event_at_0.observed)/event_at_0.at_risk\n",
    "surv_for_0"
   ]
  },
  {
   "cell_type": "markdown",
   "metadata": {},
   "source": [
    "<u>Get information about the time 5"
   ]
  },
  {
   "cell_type": "code",
   "execution_count": null,
   "metadata": {},
   "outputs": [],
   "source": [
    "event_at_5 = kmf.event_table.iloc[1,:]\n",
    "event_at_5"
   ]
  },
  {
   "cell_type": "markdown",
   "metadata": {},
   "source": [
    "<u>Get the survival probability at time 5"
   ]
  },
  {
   "cell_type": "code",
   "execution_count": null,
   "metadata": {},
   "outputs": [],
   "source": [
    "surv_for_5 = (event_at_5.at_risk - event_at_5.observed)/event_at_5.at_risk\n",
    "surv_for_5\n"
   ]
  },
  {
   "cell_type": "markdown",
   "metadata": {},
   "source": [
    "<u>Get information about the time 11"
   ]
  },
  {
   "cell_type": "code",
   "execution_count": null,
   "metadata": {},
   "outputs": [],
   "source": [
    "event_at_11 = kmf.event_table.iloc[2,:]\n",
    "event_at_11"
   ]
  },
  {
   "cell_type": "code",
   "execution_count": null,
   "metadata": {},
   "outputs": [],
   "source": [
    "surv_for_11 = (event_at_11.at_risk - event_at_11.observed)/event_at_11.at_risk\n",
    "surv_for_11\n"
   ]
  },
  {
   "cell_type": "markdown",
   "metadata": {},
   "source": [
    "$surv11 $ also represents a conditional probability.  It is the probability that a patient lives 11 days given that he did not dead after 5 days.  This ends up being about 98.6%.\n",
    "\n",
    "Finally we can calculate the probability that a patient's life will last more than 11 days, we just multiply the three individual survival probabilities:\n",
    "\n",
    "$$S(11) = surv_0 \\times surv_5 \\times surv_11 = \\frac{228}{228} \\times \\frac{227}{228} \\times \\frac{224}{227}  \\approx 0.982$$"
   ]
  },
  {
   "cell_type": "code",
   "execution_count": null,
   "metadata": {},
   "outputs": [],
   "source": [
    "# The probability to survive after time 5 is:\n",
    "surv_after_5 = surv_for_0 * surv_for_5\n",
    "surv_after_5"
   ]
  },
  {
   "cell_type": "code",
   "execution_count": null,
   "metadata": {},
   "outputs": [],
   "source": [
    "# The probability to survive after time 11 is:\n",
    "surv_after_11 = surv_for_0 * surv_for_5 * surv_for_11\n",
    "surv_after_11\n",
    "\n",
    "#kmf.predict(11) # calculates the same"
   ]
  },
  {
   "cell_type": "markdown",
   "metadata": {},
   "source": [
    "### Now we can use Kaplan-Meier Estimator to calculate/predict the probability of surviving after t time"
   ]
  },
  {
   "cell_type": "markdown",
   "metadata": {},
   "source": [
    "Or we can use kfm survival_function_ to estimate survival probability for all time periods"
   ]
  },
  {
   "cell_type": "code",
   "execution_count": null,
   "metadata": {},
   "outputs": [],
   "source": [
    "kmf.survival_function_"
   ]
  },
  {
   "cell_type": "code",
   "execution_count": null,
   "metadata": {},
   "outputs": [],
   "source": [
    "# Probabaility of die at time t, calculate cumulative density, which is equal\n",
    "# 1 - KM_estimate\n",
    "\n",
    "kmf.cumulative_density_\n",
    "\n",
    "#kmf.cumulative_density_.head()"
   ]
  },
  {
   "cell_type": "code",
   "execution_count": null,
   "metadata": {},
   "outputs": [],
   "source": [
    "kmf.plot_cumulative_density()"
   ]
  },
  {
   "cell_type": "code",
   "execution_count": null,
   "metadata": {},
   "outputs": [],
   "source": [
    "# Get confidence interval\n",
    "kmf.confidence_interval_"
   ]
  },
  {
   "cell_type": "markdown",
   "metadata": {},
   "source": [
    "### Plot the K-M Curve"
   ]
  },
  {
   "cell_type": "code",
   "execution_count": null,
   "metadata": {},
   "outputs": [],
   "source": [
    "# Plot the graph :\n",
    "\n",
    "kmf.plot()\n",
    "\n",
    "plt.title(\"The Kaplan-Meier Estimate\")\n",
    "plt.ylabel(\"Probability of patient still alive\")\n",
    "plt.show()"
   ]
  },
  {
   "cell_type": "markdown",
   "metadata": {},
   "source": [
    "We can also add censored data point on the K-M Curve"
   ]
  },
  {
   "cell_type": "code",
   "execution_count": null,
   "metadata": {},
   "outputs": [],
   "source": [
    "# Extracting duration and event status\n",
    "durations = data['time']\n",
    "event_observed = data['dead']\n",
    "\n",
    "# Fitting Kaplan-Meier\n",
    "kmf = KaplanMeierFitter()\n",
    "kmf.fit(durations, event_observed)\n",
    "\n",
    "\n",
    "plt.figure(figsize=(12, 8)) \n",
    "ax = kmf.plot()\n",
    "\n",
    "# Extracting censored data points for plotting\n",
    "censored_data = data[data['dead'] == 0]  \n",
    "\n",
    "# Predicting survival probabilities for censored data\n",
    "survival_prob = kmf.predict(censored_data['time'])\n",
    "\n",
    "# Adding censored data points on the Kaplan-Meier curve\n",
    "for time, prob in zip(censored_data['time'], survival_prob):\n",
    "    plt.scatter(time, prob, marker='x', color='red')\n",
    "\n",
    "plt.title(\"Kaplan-Meier Survival Curve with Censored Data Points on Curve\")\n",
    "plt.xlabel(\"Time in days\")\n",
    "plt.ylabel(\"Survival probability\")\n",
    "plt.show()"
   ]
  },
  {
   "cell_type": "code",
   "execution_count": null,
   "metadata": {},
   "outputs": [],
   "source": [
    "# Extracting duration and event status\n",
    "durations = data['time']\n",
    "event_observed = data['dead']\n",
    "\n",
    "# Fitting Kaplan-Meier\n",
    "kmf = KaplanMeierFitter()\n",
    "kmf.fit(durations, event_observed)\n",
    "\n",
    "# Plotting Kaplan-Meier estimate\n",
    "ax = kmf.plot()\n",
    "\n",
    "# Extracting censored data points for plotting\n",
    "censored_data = data[data['dead'] == 0]  \n",
    "\n",
    "# Predicting survival probabilities for censored data\n",
    "survival_prob = kmf.predict(censored_data['time'])\n",
    "\n",
    "# Adding censored data points on the Kaplan-Meier curve\n",
    "for time, prob in zip(censored_data['time'], survival_prob):\n",
    "    plt.scatter(time, prob, marker='x', color='red')\n",
    "\n",
    "# Adding median survival time line\n",
    "median_survival_time = kmf.median_survival_time_\n",
    "plt.axvline(x=median_survival_time, color='green', linestyle='--', label=f\"Median Survival Time: {median_survival_time:.2f} units\")\n",
    "\n",
    "plt.title(\"Kaplan-Meier Survival Curve with Censored Data Points and Median Survival Time\")\n",
    "plt.xlabel(\"Time\")\n",
    "plt.ylabel(\"Survival probability\")\n",
    "plt.legend()\n",
    "plt.show()\n"
   ]
  },
  {
   "cell_type": "markdown",
   "metadata": {},
   "source": [
    "The median survival time provides the number of days when on average 50% of patients died"
   ]
  },
  {
   "cell_type": "code",
   "execution_count": null,
   "metadata": {},
   "outputs": [],
   "source": [
    "# Get the median survival days\n",
    "\n",
    "kmf.median_survival_time_"
   ]
  },
  {
   "cell_type": "markdown",
   "metadata": {},
   "source": [
    "#### To compare the Kaplan-Meier survival curves for male and female patients and assess the statistical significancedifference between the survival distributions, a common approach is to use the <u> log-rank test </u>(also known as the Mantel-Cox test). The log-rank test is based on the Kaplan-Meier curves and tests the null hypothesis that there's no difference in survival between groups."
   ]
  },
  {
   "cell_type": "markdown",
   "metadata": {},
   "source": [
    "<b> H0: Both groups have identical distribution curves.<br>\n",
    "H1: Both groups have different distribution curves."
   ]
  },
  {
   "attachments": {
    "image.png": {
     "image/png": "[encoded data removed]"
    }
   },
   "cell_type": "markdown",
   "metadata": {},
   "source": [
    "![image.png](attachment:image.png)"
   ]
  },
  {
   "cell_type": "markdown",
   "metadata": {},
   "source": [
    "Where:\n",
    "\n",
    "Ot​  is the observed number of events at each unique event time t (deaths or failures) in both groups.<br>\n",
    "Et​  is the expected number of events at each unique event time t under the null hypothesis, which assumes the equality of survival distributions. The expected events are typically calculated based on the product of the total number of observed events and the proportion of individuals at risk in each group at time t.<br>\n",
    "Vt​  is the variance at each unique event time t. It's calculated based on the number of individuals at risk in each group at that time.\n",
    "\n",
    "<u> In lifelines.statistics import logrank_test the formula is above mentioned"
   ]
  },
  {
   "cell_type": "code",
   "execution_count": null,
   "metadata": {},
   "outputs": [],
   "source": [
    "# Create data sets for males and females\n",
    "\n",
    "Male = data.query(\"sex == 1\")\n",
    "Female = data.query(\"sex == 2\")"
   ]
  },
  {
   "cell_type": "code",
   "execution_count": null,
   "metadata": {},
   "outputs": [],
   "source": [
    "# Create the KM fitter for two datasets\n",
    "\n",
    "kmf_m = KaplanMeierFitter() \n",
    "kmf_f = KaplanMeierFitter() "
   ]
  },
  {
   "cell_type": "code",
   "execution_count": null,
   "metadata": {},
   "outputs": [],
   "source": [
    "#Fit the datasets\n",
    "# The 1st argument takes an array or pd.Series of individual survival times\n",
    "# The 2nd argument takes an array or pd.Series that indicates if the event (death)\n",
    "\n",
    "kmf_m.fit(durations =  Male[\"time\"],event_observed = Male[\"dead\"] ,label=\"Male\")\n",
    "\n",
    "kmf_f.fit(durations =  Female[\"time\"],event_observed = Female[\"dead\"], label=\"Female\")\n",
    "\n",
    "print(kmf_m)\n",
    "print(kmf_f)"
   ]
  },
  {
   "cell_type": "code",
   "execution_count": null,
   "metadata": {},
   "outputs": [],
   "source": [
    "# Get the event table for males\n",
    "kmf_m.event_table"
   ]
  },
  {
   "cell_type": "code",
   "execution_count": null,
   "metadata": {},
   "outputs": [],
   "source": [
    "# Get the event table for females\n",
    "kmf_f.event_table"
   ]
  },
  {
   "cell_type": "markdown",
   "metadata": {},
   "source": [
    "Based on the event tables provided, distinctions are evident between male and female patients. They exhibit variations in the timing of events, leading to diverse observations in the Kaplan-Meier estimations.<br>\n",
    "Now we can etimate the survival probability for male and female patients"
   ]
  },
  {
   "cell_type": "code",
   "execution_count": null,
   "metadata": {},
   "outputs": [],
   "source": [
    "print(\"For Males:\")\n",
    "print(kmf_m.survival_function_)\n",
    "\n",
    "print(\"\\nFor Females:\")\n",
    "print(kmf_f.survival_function_)"
   ]
  },
  {
   "cell_type": "code",
   "execution_count": null,
   "metadata": {},
   "outputs": [],
   "source": [
    "# Plot the survival_function data :\n",
    "\n",
    "kmf_m.plot()\n",
    "kmf_f.plot()\n",
    "\n",
    "plt.xlabel(\"Days passed\")\n",
    "plt.ylabel(\"Survival\")\n",
    "plt.title(\"KMF\")"
   ]
  },
  {
   "cell_type": "code",
   "execution_count": null,
   "metadata": {},
   "outputs": [],
   "source": [
    "# Extracting duration and event status\n",
    "durations_m = Male['time']\n",
    "event_observed_m = Male['dead']\n",
    "\n",
    "# Fitting Kaplan-Meier\n",
    "kmf_m= KaplanMeierFitter()\n",
    "kmf_m.fit(durations_m, event_observed_m)\n",
    "\n",
    "\n",
    "# Extracting duration and event status\n",
    "durations_f = Female['time']\n",
    "event_observed_f = Female['dead']\n",
    "\n",
    "# Fitting Kaplan-Meier\n",
    "kmf_f= KaplanMeierFitter()\n",
    "kmf_f.fit(durations_f, event_observed_f)"
   ]
  },
  {
   "cell_type": "code",
   "execution_count": null,
   "metadata": {},
   "outputs": [],
   "source": [
    "plt.figure(figsize=(12, 8)) \n",
    "ax = kmf_m.plot()\n",
    "\n",
    "# Extracting censored data points for plotting\n",
    "censored_data_m = Male[Male['dead'] == 0]  \n",
    "\n",
    "# Predicting survival probabilities for censored data\n",
    "survival_prob_m = kmf_m.predict(censored_data_m['time'])\n",
    "\n",
    "# Adding censored data points on the Kaplan-Meier curve\n",
    "for time, prob in zip(censored_data_m['time'], survival_prob_m):\n",
    "    plt.scatter(time, prob, marker='x', color='red')\n",
    "\n",
    "plt.title(\"Kaplan-Meier Survival Curve with Censored Data Points on Curve\")\n",
    "plt.xlabel(\"Time in days\")\n",
    "plt.ylabel(\"Survival probability\")\n",
    "\n",
    "\n",
    "ax = kmf_f.plot()\n",
    "\n",
    "# Extracting censored data points for plotting\n",
    "censored_data_f = Female[Female['dead'] == 0]  \n",
    "\n",
    "# Predicting survival probabilities for censored data\n",
    "survival_prob_f = kmf_f.predict(censored_data_f['time'])\n",
    "\n",
    "# Adding censored data points on the Kaplan-Meier curve\n",
    "for time, prob in zip(censored_data_f['time'], survival_prob_f):\n",
    "    plt.scatter(time, prob, marker='x', color='red')\n",
    "\n",
    "plt.title(\"Kaplan-Meier Survival Curve with Censored Data Points on Curve\")\n",
    "plt.xlabel(\"Time in days\")\n",
    "plt.ylabel(\"Survival probability\")\n",
    "\n",
    "plt.show()"
   ]
  },
  {
   "cell_type": "code",
   "execution_count": null,
   "metadata": {},
   "outputs": [],
   "source": [
    "from lifelines.statistics import logrank_test\n",
    "# Perform log-rank test\n",
    "results = logrank_test(Male['time'], Female['time'], Male['dead'], Female['dead'])\n",
    "\n",
    "# Print test results\n",
    "print(results.print_summary())"
   ]
  },
  {
   "cell_type": "markdown",
   "metadata": {},
   "source": [
    "If the calculated p-value is greater than 0.05, the null hypothesis is not rejected. Based on the available data, it is then assumed that both groups have the same distribution curve. <br>\n",
    "\n",
    "If the p-value is less than 0.05, the null hypothesis is rejected and it is assumed that the two groups are different."
   ]
  },
  {
   "cell_type": "markdown",
   "metadata": {},
   "source": [
    "From our dataset, the obtained p-value is below the threshold of 0.05, indicating that we have enough evidance to reject the null hypothesis. <br>\n",
    "This signifies that there exists a <u> statistically significant distinction between the survival curves of males and females."
   ]
  },
  {
   "cell_type": "markdown",
   "metadata": {},
   "source": [
    "# Cox Proportional Hazard Model (Semi-Parametric)\n",
    "Cox-PH model is a semi-parametric model which solves the problem of incorporating covariates. In Cox’s proportional hazard model, the log-hazard is a linear function of the covariates and a population-level baseline hazard"
   ]
  },
  {
   "attachments": {
    "image.png": {
     "image/png": "[encoded data removed]"
    }
   },
   "cell_type": "markdown",
   "metadata": {},
   "source": [
    "![image.png](attachment:image.png)"
   ]
  },
  {
   "cell_type": "markdown",
   "metadata": {},
   "source": [
    "In the above equation, the first term is the baseline hazard and the second term known as partial hazard. The partial hazard inflates or deflates the baseline hazard based on covariates.\n",
    "\n",
    "Cox-PH Model Assumptions\n",
    "\n",
    "Cox proportional hazards regression model assumptions includes:\n",
    "\n",
    "Independence of survival times between distinct individuals in the sample<br>\n",
    "Linearity in Log Hazards: The relationship between the log of the hazard and the covariates is assumed to be linear.  <br>\n",
    "A constant hazard ratio over time<br>\n",
    "Non-Collinearity<br>\n",
    "<br>\n",
    "Definition of Hazard and Hazard Ratio\n",
    "\n",
    "Hazard is defined as the slope of the survival curve. It is a measure of how rapidly subjects are dying.\n",
    "The hazard ratio compares two groups. If the hazard ratio is 2.0, then the rate of deaths in one group is twice the rate in the other group."
   ]
  },
  {
   "cell_type": "markdown",
   "metadata": {},
   "source": [
    "<u> The Cox model </u> estimates the hazard or risk of an event based on the relationships between the covariates and the hazard function, using partial likelihood estimation. \n",
    "It assumes that the hazard ratios between any two groups remain constant over time (proportional hazards assumption) but does not assume a particular parametric form for the baseline hazard."
   ]
  },
  {
   "cell_type": "code",
   "execution_count": null,
   "metadata": {},
   "outputs": [],
   "source": [
    "# Define features to include in the model\n",
    "data = data[[ 'time', 'age', 'sex', 'ph.ecog','ph.karno', 'pat.karno', 'meal.cal', 'wt.loss', 'dead']]\n",
    "# Drop Nan values\n",
    "data= data.dropna(subset=['time', 'age', 'sex', 'ph.ecog','ph.karno', 'pat.karno', 'meal.cal', 'wt.loss', 'dead'])\n",
    "\n"
   ]
  },
  {
   "cell_type": "code",
   "execution_count": null,
   "metadata": {},
   "outputs": [],
   "source": [
    "dummies_sex = pd.get_dummies(data[\"sex\"], prefix = 'sex')\n",
    "dummies_sex.head(4)"
   ]
  },
  {
   "cell_type": "code",
   "execution_count": null,
   "metadata": {},
   "outputs": [],
   "source": [
    "dummies_sex = dummies_sex[[\"sex_1\"]]\n",
    "data = pd.concat([data, dummies_sex], axis = 1)\n",
    "data = data.drop(\"sex\", axis = 1)\n",
    "data.head()"
   ]
  },
  {
   "cell_type": "code",
   "execution_count": null,
   "metadata": {},
   "outputs": [],
   "source": [
    "from lifelines import CoxPHFitter\n",
    "import warnings\n",
    "warnings.filterwarnings(\"ignore\")\n",
    "\n",
    "\n",
    "cph = CoxPHFitter()\n",
    "cph.fit(data,\"time\",event_col=\"dead\")\n",
    "cph.print_summary()"
   ]
  },
  {
   "cell_type": "markdown",
   "metadata": {},
   "source": [
    "Exp(coef) lower 95% = 1: The lower bound of the 95% confidence interval for the hazard ratio is 1. This suggests that, according to the data and the analysis, the hazard ratio could be as low as 1 but is not significantly different from 1. A hazard ratio of 1 implies no difference in the risk or hazard between compared groups or levels of a covariate.\n",
    "\n",
    "Exp(coef) upper 95% = 1: The upper bound of the 95% confidence interval for the hazard ratio is also 1. This indicates that the hazard ratio could be as high as 1 but is not significantly different from 1. A hazard ratio of 1 means there is no change in the hazard or risk between the groups or levels being compared."
   ]
  },
  {
   "cell_type": "markdown",
   "metadata": {},
   "source": [
    "In the context of a Cox Proportional Hazards Model, significant coefficients for variables indicate the impact of these variables on the hazard or risk of an event occurring. Significant coefficients are associated with statistically meaningful predictors that influence the event of interest (death, relapse, failure, etc.) in survival analysis."
   ]
  },
  {
   "cell_type": "markdown",
   "metadata": {},
   "source": [
    "<u> Interpret the coefficient</u><br>\n",
    "The risk of death increases by 1% for each increased year of age\n",
    "\n",
    "A hazard ratio of 1.73 suggests that, all else being equal, the hazard of experiencing the death for males is approximately 1.73 times the hazard for the females after accounting for other factors in the model. Or, males have a risk of death 73% higher than females, cotrolling for other covariates"
   ]
  },
  {
   "cell_type": "markdown",
   "metadata": {},
   "source": [
    "#### check_assumptions"
   ]
  },
  {
   "cell_type": "code",
   "execution_count": null,
   "metadata": {},
   "outputs": [],
   "source": [
    "from lifelines.statistics import proportional_hazard_test\n",
    "results = proportional_hazard_test(cph, data, time_transform='rank')\n",
    "results.print_summary(decimals=3, model=\"untransformed variables\")"
   ]
  },
  {
   "cell_type": "code",
   "execution_count": null,
   "metadata": {},
   "outputs": [],
   "source": []
  }
 ],
 "metadata": {
  "kernelspec": {
   "display_name": "Python 3 (ipykernel)",
   "language": "python",
   "name": "python3"
  },
  "language_info": {
   "codemirror_mode": {
    "name": "ipython",
    "version": 3
   },
   "file_extension": ".py",
   "mimetype": "text/x-python",
   "name": "python",
   "nbconvert_exporter": "python",
   "pygments_lexer": "ipython3",
   "version": "3.9.13"
  }
 },
 "nbformat": 4,
 "nbformat_minor": 4
}
