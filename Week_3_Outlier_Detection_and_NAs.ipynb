{
 "cells": [
  {
   "cell_type": "markdown",
   "id": "9c1afef9",
   "metadata": {},
   "source": [
    "## Handling Missing values"
   ]
  },
  {
   "cell_type": "markdown",
   "id": "64611957",
   "metadata": {},
   "source": [
    "Why do you need to fill in the missing data? \n",
    "\n",
    "Because most of the machine learning models that you want to use will provide an error if you pass NaN values into it. The easiest way is to just fill them up with 0, but this can reduce your model accuracy significantly.\n",
    "\n",
    "\n",
    "The absence of values is a cause of concern for real-life datasets. When collecting observations about a variable, missing values can occur due to reasons as diverse as –\n",
    "\n",
    "* an error in machinery/equipment\n",
    "* error on part of the researcher\n",
    "* unavailable respondents\n",
    "* accidental deletion of observations\n",
    "* forgetfulness on part of the respondents\n",
    "* error in accounting, etc."
   ]
  },
  {
   "cell_type": "code",
   "execution_count": null,
   "id": "5c9c75ef",
   "metadata": {},
   "outputs": [],
   "source": [
    "# Packages\n",
    "import pandas as pd\n",
    "import numpy as np\n",
    "import matplotlib.pyplot as plt\n",
    "import seaborn as sns\n",
    "import os\n",
    "from datetime import date\n",
    "%matplotlib inline"
   ]
  },
  {
   "cell_type": "code",
   "execution_count": null,
   "id": "622ae6bf",
   "metadata": {},
   "outputs": [],
   "source": [
    "# Data \n",
    "df = pd.read_csv('data/titanic.csv')"
   ]
  },
  {
   "cell_type": "code",
   "execution_count": null,
   "id": "30b7933d",
   "metadata": {},
   "outputs": [],
   "source": [
    "df.head()"
   ]
  },
  {
   "cell_type": "code",
   "execution_count": null,
   "id": "2a86fba3",
   "metadata": {},
   "outputs": [],
   "source": [
    "df.drop(columns=[\"Name\", \"Ticket\", \"PassengerId\", \"Cabin\", \"Embarked\"], inplace=True)"
   ]
  },
  {
   "cell_type": "code",
   "execution_count": null,
   "id": "70143116",
   "metadata": {},
   "outputs": [],
   "source": [
    "df.head()"
   ]
  },
  {
   "cell_type": "code",
   "execution_count": null,
   "id": "bbf9d815",
   "metadata": {},
   "outputs": [],
   "source": [
    "print(df.isna().sum())"
   ]
  },
  {
   "cell_type": "code",
   "execution_count": null,
   "id": "55c2b63b",
   "metadata": {},
   "outputs": [],
   "source": [
    "# from sklearn.preprocessing import LabelEncoder\n",
    "# le = LabelEncoder()\n",
    "# df['Sex'] = le.fit_transform(df['Sex'])\n",
    "# newdf = df\n",
    "# Pandas .getdunnies as a main method of on hod encoding transformation\n",
    "df['Sex'] = pd.get_dummies(df[\"Sex\"], drop_first=True)"
   ]
  },
  {
   "cell_type": "markdown",
   "id": "23c07120",
   "metadata": {},
   "source": [
    "## The methods we will be discussing are:"
   ]
  },
  {
   "cell_type": "markdown",
   "id": "3c711c36",
   "metadata": {},
   "source": [
    "### 1. Deleting the column with missing data"
   ]
  },
  {
   "cell_type": "code",
   "execution_count": null,
   "id": "2ff69749",
   "metadata": {},
   "outputs": [],
   "source": [
    "updated_df = df.dropna(axis=1)"
   ]
  },
  {
   "cell_type": "code",
   "execution_count": null,
   "id": "710ff651",
   "metadata": {},
   "outputs": [],
   "source": [
    "updated_df.info()"
   ]
  },
  {
   "cell_type": "markdown",
   "id": "c20bc91a",
   "metadata": {},
   "source": [
    "### 2. Deleting the row with missing data"
   ]
  },
  {
   "cell_type": "code",
   "execution_count": null,
   "id": "0a1bc0e4",
   "metadata": {},
   "outputs": [],
   "source": [
    "updated_df_1 = df.dropna(axis=0)"
   ]
  },
  {
   "cell_type": "code",
   "execution_count": null,
   "id": "b7446587",
   "metadata": {},
   "outputs": [],
   "source": [
    "updated_df_1.info()"
   ]
  },
  {
   "cell_type": "markdown",
   "id": "818d3242",
   "metadata": {},
   "source": [
    "### 3. Filling the Missing Values – Imputation"
   ]
  },
  {
   "cell_type": "markdown",
   "id": "98333e23",
   "metadata": {},
   "source": [
    "In this case, we will be filling the missing values with a certain number.\n",
    "\n",
    "The possible ways to do this are:\n",
    "\n",
    "* Filling the missing data with the mean or median value if it’s a numerical variable.\n",
    "* Filling the missing data with mode if it’s a categorical value.\n",
    "* Filling the numerical value with 0 or -999, or some other number that will not occur in the data. This can be done so that the machine can recognize that the data is not real or is different.\n",
    "* Filling the categorical value with a new type for the missing values.\n",
    "\n",
    "You can use the fillna() function to fill the null values in the dataset."
   ]
  },
  {
   "cell_type": "code",
   "execution_count": null,
   "id": "db0a6973",
   "metadata": {},
   "outputs": [],
   "source": [
    "updated_df_3 = df.copy()\n",
    "updated_df_3['Age'] = updated_df_3['Age'].fillna(updated_df_3['Age'].mean())\n",
    "updated_df_3.info()"
   ]
  },
  {
   "cell_type": "markdown",
   "id": "1686101f",
   "metadata": {},
   "source": [
    "### 4. Imputation with an additional column"
   ]
  },
  {
   "cell_type": "code",
   "execution_count": null,
   "id": "048eea10",
   "metadata": {},
   "outputs": [],
   "source": [
    "updated_df_4 = df.copy()\n",
    "updated_df_4['Ageismissing'] = updated_df_4['Age'].isnull()\n",
    "updated_df_4.head()"
   ]
  },
  {
   "cell_type": "code",
   "execution_count": null,
   "id": "a26d4e7f",
   "metadata": {},
   "outputs": [],
   "source": [
    "from sklearn.impute import SimpleImputer, KNNImputer, MissingIndicator\n",
    "\n",
    "my_imputer = SimpleImputer(strategy = 'mean')\n",
    "data_new = my_imputer.fit_transform(updated_df_4)\n",
    "pd.DataFrame(data_new, columns= updated_df_4.columns)"
   ]
  },
  {
   "cell_type": "markdown",
   "id": "f567f7bc",
   "metadata": {},
   "source": [
    "Essence of kNN algorithm\n",
    "Univariate methods used for missing value imputation are simplistic ways of estimating the value and may not provide an accurate picture always. For example, let us say we have variables related to the density of cars on road and levels of pollutants in the air and there are few observations that are missing for the level of pollutants, imputing the level of pollutants by mean/median level of pollutants may not necessarily be an appropriate strategy.\n",
    "\n",
    "In such scenarios, algorithms like k-Nearest Neighbors (kNN) can help to impute the values of missing data. Sociologists and community researchers suggest that human beings live in a community because neighbors generate a feeling of security and safety, attachment to community, and relationships that bring out a community identity through participation in various activities.\n",
    "\n",
    "A similar imputation methodology that works on data is k-Nearest Neighbours (kNN) that identifies the neighboring points through a measure of distance and the missing values can be estimated using completed values of neighboring observations."
   ]
  },
  {
   "cell_type": "code",
   "execution_count": null,
   "id": "214d3df5",
   "metadata": {},
   "outputs": [],
   "source": [
    "my_imputer = KNNImputer(n_neighbors=2)\n",
    "data_new = my_imputer.fit_transform(updated_df_4)\n",
    "pd.DataFrame(data_new, columns= updated_df_4.columns)"
   ]
  },
  {
   "cell_type": "markdown",
   "id": "adcae891",
   "metadata": {},
   "source": [
    "### 5. Filling with a Regression Model\n",
    "In this case, the null values in one column are filled by fitting a regression model using other columns in the dataset.\n",
    "\n",
    "I.E in this case the regression model will contain all the columns except Age in X and Age in Y.\n",
    "\n",
    "Then after filling the values in the Age column, then we will use logistic regression to calculate accuracy."
   ]
  },
  {
   "cell_type": "code",
   "execution_count": null,
   "id": "0eae09aa",
   "metadata": {},
   "outputs": [],
   "source": [
    "from sklearn.linear_model import LinearRegression"
   ]
  },
  {
   "cell_type": "code",
   "execution_count": null,
   "id": "e84badd0",
   "metadata": {},
   "outputs": [],
   "source": [
    "lr = LinearRegression()\n",
    "df.info()"
   ]
  },
  {
   "cell_type": "code",
   "execution_count": null,
   "id": "4937ca8f",
   "metadata": {},
   "outputs": [],
   "source": [
    "reg_df = df.copy()"
   ]
  },
  {
   "cell_type": "code",
   "execution_count": null,
   "id": "dca20d71",
   "metadata": {},
   "outputs": [],
   "source": [
    "testdf = reg_df[reg_df['Age'].isna()==True]\n",
    "traindf = reg_df[reg_df['Age'].isna()==False]"
   ]
  },
  {
   "cell_type": "code",
   "execution_count": null,
   "id": "a54c548e",
   "metadata": {},
   "outputs": [],
   "source": [
    "y = traindf['Age']\n",
    "traindf.drop(\"Age\",axis=1,inplace=True)"
   ]
  },
  {
   "cell_type": "code",
   "execution_count": null,
   "id": "93f0f424",
   "metadata": {},
   "outputs": [],
   "source": [
    "lr.fit(traindf, y)"
   ]
  },
  {
   "cell_type": "code",
   "execution_count": null,
   "id": "7c68170c",
   "metadata": {},
   "outputs": [],
   "source": [
    "testdf.drop(\"Age\", axis=1, inplace=True)"
   ]
  },
  {
   "cell_type": "code",
   "execution_count": null,
   "id": "be56bc0c",
   "metadata": {},
   "outputs": [],
   "source": [
    "pred = lr.predict(testdf)\n",
    "testdf['Age'] = pred"
   ]
  },
  {
   "cell_type": "code",
   "execution_count": null,
   "id": "06f4a304",
   "metadata": {},
   "outputs": [],
   "source": [
    "testdf"
   ]
  },
  {
   "cell_type": "code",
   "execution_count": null,
   "id": "1b374758",
   "metadata": {},
   "outputs": [],
   "source": []
  }
 ],
 "metadata": {
  "kernelspec": {
   "display_name": "Python 3 (ipykernel)",
   "language": "python",
   "name": "python3"
  },
  "language_info": {
   "codemirror_mode": {
    "name": "ipython",
    "version": 3
   },
   "file_extension": ".py",
   "mimetype": "text/x-python",
   "name": "python",
   "nbconvert_exporter": "python",
   "pygments_lexer": "ipython3",
   "version": "3.12.4"
  }
 },
 "nbformat": 4,
 "nbformat_minor": 5
}
