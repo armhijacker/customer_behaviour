{
 "cells": [
  {
   "cell_type": "markdown",
   "id": "02d6fb42-7bce-4101-a1c9-8df57b92854a",
   "metadata": {},
   "source": [
    "## Exploratory data analysis"
   ]
  },
  {
   "cell_type": "markdown",
   "id": "c3933c81-f0c5-4770-92c8-a2f8a1bf51f8",
   "metadata": {
    "jp-MarkdownHeadingCollapsed": true
   },
   "source": [
    "### Dataset overview"
   ]
  },
  {
   "cell_type": "code",
   "execution_count": null,
   "id": "cb6f7463-b7fd-4eeb-ae85-624e6e989212",
   "metadata": {},
   "outputs": [],
   "source": [
    "#Necessary libraries\n",
    "import pandas as pd\n",
    "import numpy as np\n",
    "\n",
    "import matplotlib.pyplot as plt\n",
    "import seaborn as sns\n",
    "\n",
    "from datetime import date\n",
    "%matplotlib inline"
   ]
  },
  {
   "cell_type": "code",
   "execution_count": null,
   "id": "93caa806-7bb4-443b-b71b-e73b89d69b1e",
   "metadata": {},
   "outputs": [],
   "source": [
    "wines = pd.read_csv(\"winequality.csv\")"
   ]
  },
  {
   "cell_type": "code",
   "execution_count": null,
   "id": "86628f77-45db-4856-9a81-fb791711f26e",
   "metadata": {},
   "outputs": [],
   "source": [
    "wines"
   ]
  },
  {
   "cell_type": "code",
   "execution_count": null,
   "id": "617b8d95-747a-4101-b31b-8bd427632d58",
   "metadata": {},
   "outputs": [],
   "source": [
    "wines.info()"
   ]
  },
  {
   "cell_type": "code",
   "execution_count": null,
   "id": "8aacb3fc-08f8-4fe0-aad6-d7a7f2b01465",
   "metadata": {},
   "outputs": [],
   "source": [
    "#Summary statistics of variables\n",
    "wines.describe()"
   ]
  },
  {
   "cell_type": "code",
   "execution_count": null,
   "id": "ca1e7f23-dee6-4b5d-acbd-c485e312f471",
   "metadata": {},
   "outputs": [],
   "source": [
    "#Exploring NA\n",
    "data_nas = pd.DataFrame(wines.isna().sum(), columns=['Number of NAs'])\n",
    "data_nas"
   ]
  },
  {
   "cell_type": "markdown",
   "id": "389deb5e-d4da-43c2-855c-ebffe7e4e45d",
   "metadata": {
    "jp-MarkdownHeadingCollapsed": true
   },
   "source": [
    "### Visualisation of each variable"
   ]
  },
  {
   "cell_type": "markdown",
   "id": "5b816f0c-c40a-4659-8345-8142caba35cd",
   "metadata": {
    "jp-MarkdownHeadingCollapsed": true
   },
   "source": [
    "#### Density "
   ]
  },
  {
   "cell_type": "code",
   "execution_count": null,
   "id": "a2425ca2-7f06-4882-8314-e736245d8c45",
   "metadata": {},
   "outputs": [],
   "source": [
    "#Distibution of density\n",
    "plt.figure(figsize=(10, 5))\n",
    "sns.displot(wines.density)\n",
    "plt.axvline(wines.density.mean(), color='k', linestyle='dashed', linewidth=1)\n",
    "plt.axvline(wines.density.median(), color='r', linewidth=1)\n",
    "plt.title('Distribution of variable \"Density\"')\n",
    "plt.xlabel(\"Density\")\n",
    "plt.show()\n",
    "\n",
    "#Boxplot fot density to detect outliers\n",
    "sns.boxplot(y=wines['density'])\n",
    "plt.ylabel('Density')\n",
    "plt.title('Boxplot of density in Wines')\n",
    "plt.show()"
   ]
  },
  {
   "cell_type": "markdown",
   "id": "88aef6fc-9c84-4c95-b841-d65fcb182e91",
   "metadata": {
    "jp-MarkdownHeadingCollapsed": true
   },
   "source": [
    "#### Fixed acidity"
   ]
  },
  {
   "cell_type": "code",
   "execution_count": null,
   "id": "2d74e331-ff15-4c3c-977b-b562c72f6306",
   "metadata": {},
   "outputs": [],
   "source": [
    "#Distibution of fixed acidity\t\n",
    "plt.figure(figsize=(10, 5))\n",
    "sns.displot(wines['fixed acidity'])\n",
    "plt.axvline(wines['fixed acidity'].mean(), color='k', linestyle='dashed', linewidth=1)\n",
    "plt.axvline(wines['fixed acidity'].median(), color='r', linewidth=1)\n",
    "plt.title('Distribution of variable \"Fixed acidity\"')\n",
    "plt.xlabel(\"Fixed acidity\")\n",
    "plt.show()\n",
    "\n",
    "#Boxplot for fixed acidity to detect outliers\n",
    "sns.boxplot(y=wines['fixed acidity'])\n",
    "plt.ylabel('Fixed acidity')\n",
    "plt.title('Boxplot of Fixed acidity in Wines')\n",
    "plt.show()"
   ]
  },
  {
   "cell_type": "markdown",
   "id": "e6cd7540-1051-4f0b-8b08-826b57440061",
   "metadata": {
    "jp-MarkdownHeadingCollapsed": true
   },
   "source": [
    "#### Volatile acidity"
   ]
  },
  {
   "cell_type": "code",
   "execution_count": null,
   "id": "f98d09f7-bfff-4505-a31e-391c1fbcf702",
   "metadata": {},
   "outputs": [],
   "source": [
    "#Distibution of volatile acidity\t\n",
    "plt.figure(figsize=(10, 5))\n",
    "sns.displot(wines['volatile acidity'])\n",
    "plt.axvline(wines['volatile acidity'].mean(), color='k', linestyle='dashed', linewidth=1)\n",
    "plt.axvline(wines['volatile acidity'].median(), color='r', linewidth=1)\n",
    "plt.title('Distribution of variable \"Volatile acidity\"')\n",
    "plt.xlabel(\"Volatile acidity\")\n",
    "plt.show()\n",
    "\n",
    "#Boxplot for volatile acidity to detect outliers\n",
    "sns.boxplot(y=wines['volatile acidity'])\n",
    "plt.ylabel('Volatile acidity')\n",
    "plt.title('Boxplot of Volatile acidity in Wines')\n",
    "plt.show()"
   ]
  },
  {
   "cell_type": "markdown",
   "id": "501eaea2-5dac-4cc6-8ce5-729505d671dd",
   "metadata": {
    "jp-MarkdownHeadingCollapsed": true
   },
   "source": [
    "#### Citric acid"
   ]
  },
  {
   "cell_type": "code",
   "execution_count": null,
   "id": "6e7419ac-38db-4d26-afff-a0065f2a6767",
   "metadata": {},
   "outputs": [],
   "source": [
    "#Distibution of citric acid \t\n",
    "plt.figure(figsize=(10, 5))\n",
    "sns.displot(wines['citric acid'])\n",
    "plt.axvline(wines['citric acid'].mean(), color='k', linestyle='dashed', linewidth=1)\n",
    "plt.axvline(wines['citric acid'].median(), color='r', linewidth=1)\n",
    "plt.title('Distribution of variable \"Citric acid\"')\n",
    "plt.xlabel(\"Citric acid\")\n",
    "plt.show()\n",
    "\n",
    "#Boxplot for citric acid to detect outliers\n",
    "sns.boxplot(y=wines['citric acid'])\n",
    "plt.ylabel('Citric acid')\n",
    "plt.title('Boxplot of Citric acid in Wines')\n",
    "plt.show()"
   ]
  },
  {
   "cell_type": "markdown",
   "id": "503a4456-cf5d-4700-b56a-09780aa138fe",
   "metadata": {
    "jp-MarkdownHeadingCollapsed": true
   },
   "source": [
    "#### Residual sugar"
   ]
  },
  {
   "cell_type": "code",
   "execution_count": null,
   "id": "a273fc5e-35e9-4807-84da-4a6435545492",
   "metadata": {},
   "outputs": [],
   "source": [
    "#Distibution of residual sugar\n",
    "plt.figure(figsize=(10, 5))\n",
    "sns.displot(wines['residual sugar'])\n",
    "plt.axvline(wines['residual sugar'].mean(), color='k', linestyle='dashed', linewidth=1)\n",
    "plt.axvline(wines['residual sugar'].median(), color='r', linewidth=1)\n",
    "plt.title('Distribution of variable \"Residual sugar\"')\n",
    "plt.xlabel(\"Residual sugar\")\n",
    "plt.show()\n",
    "\n",
    "#Boxplot for citric acid to detect outliers\n",
    "sns.boxplot(y=wines['residual sugar'])\n",
    "plt.ylabel('Residual sugar')\n",
    "plt.title('Boxplot of Residual sugar in Wines')\n",
    "plt.show()"
   ]
  },
  {
   "cell_type": "markdown",
   "id": "5448cf9b-66a8-426b-97b1-1a1c34aa9a2e",
   "metadata": {
    "jp-MarkdownHeadingCollapsed": true
   },
   "source": [
    "#### Chlorides"
   ]
  },
  {
   "cell_type": "code",
   "execution_count": null,
   "id": "c2fd2977-563a-4c71-883c-8a27fd5c958b",
   "metadata": {},
   "outputs": [],
   "source": [
    "#Distibution of Chlorides\n",
    "plt.figure(figsize=(10, 5))\n",
    "sns.displot(wines['chlorides'])\n",
    "plt.axvline(wines['chlorides'].mean(), color='k', linestyle='dashed', linewidth=1)\n",
    "plt.axvline(wines['chlorides'].median(), color='r', linewidth=1)\n",
    "plt.title('Distribution of variable \"Chlorides\"')\n",
    "plt.xlabel(\"Chlorides\")\n",
    "plt.show()\n",
    "\n",
    "#Boxplot for Chlorides to detect outliers\n",
    "sns.boxplot(y=wines['chlorides'])\n",
    "plt.ylabel('Chlorides')\n",
    "plt.title('Boxplot of Chlorides in Wines')\n",
    "plt.show()"
   ]
  },
  {
   "cell_type": "markdown",
   "id": "8c572a27-c0f6-4885-8193-60ea0e18e593",
   "metadata": {
    "jp-MarkdownHeadingCollapsed": true
   },
   "source": [
    "#### Free sulfur dioxide"
   ]
  },
  {
   "cell_type": "code",
   "execution_count": null,
   "id": "485a7152-2b53-4066-9a5e-d44b3775087e",
   "metadata": {},
   "outputs": [],
   "source": [
    "#Distibution of Free sulfur dioxide\n",
    "plt.figure(figsize=(10, 5))\n",
    "sns.displot(wines['free sulfur dioxide'])\n",
    "plt.axvline(wines['free sulfur dioxide'].mean(), color='k', linestyle='dashed', linewidth=1)\n",
    "plt.axvline(wines['free sulfur dioxide'].median(), color='r', linewidth=1)\n",
    "plt.title('Distribution of variable \"Free sulfur dioxide\"')\n",
    "plt.xlabel(\"Free sulfur dioxide\")\n",
    "plt.show()\n",
    "\n",
    "#Boxplot for Chlorides to detect outliers\n",
    "sns.boxplot(y=wines['free sulfur dioxide'])\n",
    "plt.ylabel('Free sulfur dioxide')\n",
    "plt.title('Boxplot of Free sulfur dioxide in Wines')\n",
    "plt.show()"
   ]
  },
  {
   "cell_type": "markdown",
   "id": "4184d39d-17cc-46c1-b773-2d874a94b9db",
   "metadata": {
    "jp-MarkdownHeadingCollapsed": true
   },
   "source": [
    "#### Total sulfur dioxide"
   ]
  },
  {
   "cell_type": "code",
   "execution_count": null,
   "id": "16b9279f-ebf7-4d37-9a6f-fe0b9409033a",
   "metadata": {},
   "outputs": [],
   "source": [
    "#Distibution of Total sulfur dioxide\n",
    "plt.figure(figsize=(10, 5))\n",
    "sns.displot(wines['total sulfur dioxide'])\n",
    "plt.axvline(wines['total sulfur dioxide'].mean(), color='k', linestyle='dashed', linewidth=1)\n",
    "plt.axvline(wines['total sulfur dioxide'].median(), color='r', linewidth=1)\n",
    "plt.title('Distribution of variable \"Total sulfur dioxide\"')\n",
    "plt.xlabel(\"Total sulfur dioxide\")\n",
    "plt.show()\n",
    "\n",
    "#Boxplot for Chlorides to detect outliers\n",
    "sns.boxplot(y=wines['total sulfur dioxide'])\n",
    "plt.ylabel('Total sulfur dioxide')\n",
    "plt.title('Boxplot of Total sulfur dioxide in Wines')\n",
    "plt.show()"
   ]
  },
  {
   "cell_type": "markdown",
   "id": "e17533fc-1dff-45fa-b51c-3e016a0be903",
   "metadata": {
    "jp-MarkdownHeadingCollapsed": true
   },
   "source": [
    "#### pH"
   ]
  },
  {
   "cell_type": "code",
   "execution_count": null,
   "id": "25e57201-d2e7-4a31-ab0f-d281259e318b",
   "metadata": {},
   "outputs": [],
   "source": [
    "#Distibution of pH\n",
    "plt.figure(figsize=(10, 5))\n",
    "sns.displot(wines['pH'])\n",
    "plt.axvline(wines['pH'].mean(), color='k', linestyle='dashed', linewidth=1)\n",
    "plt.axvline(wines['pH'].median(), color='r', linewidth=1)\n",
    "plt.title('Distribution of variable \"pH\"')\n",
    "plt.xlabel(\"pH\")\n",
    "plt.show()\n",
    "\n",
    "#Boxplot for pH to detect outliers\n",
    "sns.boxplot(y=wines['pH'])\n",
    "plt.ylabel('pH')\n",
    "plt.title('Boxplot of pH in Wines')\n",
    "plt.show()"
   ]
  },
  {
   "cell_type": "markdown",
   "id": "fef9bea0-0903-4543-84c9-9273f6bfcefd",
   "metadata": {
    "jp-MarkdownHeadingCollapsed": true
   },
   "source": [
    "#### Sulphates"
   ]
  },
  {
   "cell_type": "code",
   "execution_count": null,
   "id": "6a639350-d0f7-4e71-bc92-e9fe04b65886",
   "metadata": {},
   "outputs": [],
   "source": [
    "#Distibution of Sulphates\n",
    "plt.figure(figsize=(10, 5))\n",
    "sns.displot(wines['sulphates'])\n",
    "plt.axvline(wines['sulphates'].mean(), color='k', linestyle='dashed', linewidth=1)\n",
    "plt.axvline(wines['sulphates'].median(), color='r', linewidth=1)\n",
    "plt.title('Distribution of variable \"Sulphates\"')\n",
    "plt.xlabel(\"Sulphates\")\n",
    "plt.show()\n",
    "\n",
    "#Boxplot for Sulphates to detect outliers\n",
    "sns.boxplot(y=wines['sulphates'])\n",
    "plt.ylabel('Sulphates')\n",
    "plt.title('Boxplot of Sulphates in Wines')\n",
    "plt.show()"
   ]
  },
  {
   "cell_type": "markdown",
   "id": "451d948e-743f-461c-a7df-70e0183aedb0",
   "metadata": {},
   "source": [
    "#### Alcohol"
   ]
  },
  {
   "cell_type": "code",
   "execution_count": null,
   "id": "f49ca696-9997-4193-9ac3-7c8537f9e526",
   "metadata": {},
   "outputs": [],
   "source": [
    "#Distibution of Alcohol\n",
    "plt.figure(figsize=(10, 5))\n",
    "sns.displot(wines['alcohol'])\n",
    "plt.axvline(wines['alcohol'].mean(), color='k', linestyle='dashed', linewidth=1)\n",
    "plt.axvline(wines['alcohol'].median(), color='r', linewidth=1)\n",
    "plt.title('Distribution of variable \"Alcohol\"')\n",
    "plt.xlabel(\"Alcohol\")\n",
    "plt.show()\n",
    "\n",
    "#Boxplot for Alcohol to detect outliers\n",
    "sns.boxplot(y=wines['alcohol'])\n",
    "plt.ylabel('Alcohol')\n",
    "plt.title('Boxplot of Alcohol in Wines')\n",
    "plt.show()"
   ]
  },
  {
   "cell_type": "markdown",
   "id": "a68bb6c7-ee76-4077-8f9c-dcc5fb3de71b",
   "metadata": {
    "jp-MarkdownHeadingCollapsed": true
   },
   "source": [
    "### Interactions of variables"
   ]
  },
  {
   "cell_type": "code",
   "execution_count": null,
   "id": "a88eb58a-0feb-4914-a0ff-8cf8b3789bda",
   "metadata": {},
   "outputs": [],
   "source": [
    "#Impact of Alcohol on Wine Quality\n",
    "sns.barplot(x=wines[\"quality_y\"], y=wines[\"alcohol\"], hue=wines[\"quality_y\"], palette=\"Blues\", legend=False)\n",
    "\n",
    "plt.title(\"Impact of Alcohol on Wine Quality\")\n",
    "plt.xlabel(\"Quality Rating\")\n",
    "plt.ylabel(\"Alcohol Percentage\")\n",
    "plt.show()"
   ]
  },
  {
   "cell_type": "code",
   "execution_count": null,
   "id": "885b7118-ed78-40b5-b303-e3c6f2ca3c20",
   "metadata": {},
   "outputs": [],
   "source": [
    "#Pairs frequency on quality\n",
    "num_cols = ['fixed acidity', 'volatile acidity', 'residual sugar', 'alcohol', 'pH']\n",
    "\n",
    "sns.pairplot(wines, vars=num_cols, hue=\"quality_y\", diag_kind='kde')  # Using 'quality_y' to color the clusters\n",
    "plt.show()"
   ]
  },
  {
   "cell_type": "code",
   "execution_count": null,
   "id": "7695d90d-6aac-457b-8692-258034186fa4",
   "metadata": {},
   "outputs": [],
   "source": [
    "#Correlation matrix and heatmap\n",
    "corr = wines[num_cols].corr()\n",
    "\n",
    "plt.figure(figsize=(8, 6))\n",
    "sns.heatmap(corr, vmin=-1, vmax=1, center=0, cmap='coolwarm', annot=True, fmt=\".2f\")\n",
    "plt.title(\"Correlation Heatmap of Wine Variables\")\n",
    "plt.show()"
   ]
  },
  {
   "cell_type": "markdown",
   "id": "e623d45d-ea09-4457-ab9b-d604bf024385",
   "metadata": {
    "jp-MarkdownHeadingCollapsed": true
   },
   "source": [
    "### Handling of outliers and missing values "
   ]
  },
  {
   "cell_type": "markdown",
   "id": "57bca638-ee2c-4ab3-ae18-16318a2b2988",
   "metadata": {},
   "source": [
    "From all the variables only quality_y has some missing values(99), I decided to impute values for quality using KNN method, as losing this rows by just removing\n",
    "can have bad effect on analysis and skew the results."
   ]
  },
  {
   "cell_type": "code",
   "execution_count": null,
   "id": "6844e202-ddb6-44cc-be6a-fbcee78247d3",
   "metadata": {
    "scrolled": true
   },
   "outputs": [],
   "source": [
    "from sklearn.impute import  KNNImputer\n",
    "\n",
    "my_imputer = KNNImputer(n_neighbors=2)\n",
    "wines_imputed = my_imputer.fit_transform(wines)\n",
    "wines_new = pd.DataFrame(wines_imputed, columns=wines.columns)\n",
    "wines_new.head(10)"
   ]
  },
  {
   "cell_type": "code",
   "execution_count": null,
   "id": "75374129-460d-42c5-a590-c928e32b74ff",
   "metadata": {},
   "outputs": [],
   "source": [
    "wines_new.info()"
   ]
  },
  {
   "cell_type": "markdown",
   "id": "53019a5e-6345-413c-9b49-e3b7769da26d",
   "metadata": {},
   "source": [
    "From the boxplots, we can assume that all the variables have outliers, so I decided to remove this outliers from my dataset and then do the further analysis on a cleaned version of data.From the other side, I think that these outliers have their meanings and for example high level of ph which detecting as an outlier, can affect on the quality of the wine. Nearly 500 rows have been removed after removing outliers with IQR method."
   ]
  },
  {
   "cell_type": "code",
   "execution_count": null,
   "id": "11777096-4e91-4ff1-8f93-dcd6902485c7",
   "metadata": {},
   "outputs": [],
   "source": [
    "outlier_columns = ['fixed acidity', 'volatile acidity', 'citric acid' , 'residual sugar', \n",
    "                   'chlorides', 'free sulfur dioxide' ,'total sulfur dioxide', 'density' , 'pH', 'sulphates', 'alcohol', 'quality_y']\n",
    "\n",
    "def remove_outliers(df, columns):\n",
    "    for col in columns:\n",
    "        Q1 = df[col].quantile(0.25)\n",
    "        Q3 = df[col].quantile(0.75)\n",
    "        IQR = Q3 - Q1\n",
    "        lower_bound = Q1 - 1.5 * IQR\n",
    "        upper_bound = Q3 + 1.5 * IQR\n",
    "        df = df[(df[col] >= lower_bound) & (df[col] <= upper_bound)]\n",
    "    return df\n",
    "\n",
    "wines_cleaned = remove_outliers(wines_new, outlier_columns)\n",
    "\n",
    "print(\"Original dataset size:\", wines_new.shape)\n",
    "print(\"After outlier removal:\", wines_cleaned.shape)"
   ]
  }
 ],
 "metadata": {
  "kernelspec": {
   "display_name": "Python 3 (ipykernel)",
   "language": "python",
   "name": "python3"
  },
  "language_info": {
   "codemirror_mode": {
    "name": "ipython",
    "version": 3
   },
   "file_extension": ".py",
   "mimetype": "text/x-python",
   "name": "python",
   "nbconvert_exporter": "python",
   "pygments_lexer": "ipython3",
   "version": "3.12.4"
  }
 },
 "nbformat": 4,
 "nbformat_minor": 5
}
