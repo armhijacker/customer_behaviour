{
 "cells": [
  {
   "cell_type": "code",
   "execution_count": null,
   "id": "de5cba04",
   "metadata": {},
   "outputs": [],
   "source": [
    "import pandas as pd\n",
    "from sklearn.model_selection import train_test_split\n",
    "from sklearn.linear_model import LinearRegression\n",
    "from sklearn.metrics import mean_absolute_percentage_error"
   ]
  },
  {
   "cell_type": "code",
   "execution_count": null,
   "id": "c602e8d1",
   "metadata": {},
   "outputs": [],
   "source": [
    "df = pd.read_csv(\"data/titanic.csv\")\n",
    "df.info()"
   ]
  },
  {
   "cell_type": "code",
   "execution_count": null,
   "id": "f1e59dcf",
   "metadata": {},
   "outputs": [],
   "source": [
    "df_without_nans = pd.get_dummies(df[~df.Age.isna()][['Survived', 'Pclass', 'Sex', 'Age', 'SibSp','Parch', 'Fare']])\n",
    "Y_df_without_nans = df_without_nans.Age\n",
    "X_df_without_nans = df_without_nans[df_without_nans.columns.difference(['Age'])]\n",
    "\n",
    "df_with_nans = pd.get_dummies(df[df.Age.isna()][['Survived', 'Pclass', 'Sex', 'Age', 'SibSp','Parch', 'Fare']])\n",
    "Y_df_with_nans = df_with_nans.Age\n",
    "X_df_with_nans = df_with_nans[df_with_nans.columns.difference(['Age'])]\n",
    "\n",
    "train_X, test_X, train_Y, test_Y = train_test_split(X_df_without_nans, Y_df_without_nans, test_size=0.2)\n",
    "train_X.shape, test_X.shape, train_Y.shape, test_Y.shape"
   ]
  },
  {
   "cell_type": "code",
   "execution_count": null,
   "id": "5673c743",
   "metadata": {},
   "outputs": [],
   "source": [
    "lr = LinearRegression()"
   ]
  },
  {
   "cell_type": "code",
   "execution_count": null,
   "id": "f74d0914",
   "metadata": {},
   "outputs": [],
   "source": [
    "# Bad Model\n",
    "lr.fit(train_X, train_Y)\n",
    "pred_Y = lr.predict(test_X)\n",
    "print(mean_absolute_percentage_error(pred_Y, test_Y)*100)"
   ]
  },
  {
   "cell_type": "code",
   "execution_count": null,
   "id": "fd7e0ac4",
   "metadata": {},
   "outputs": [],
   "source": [
    "handled_missing_Y = list(map(lambda x: int(round(x,0)), lr.predict(X_df_with_nans)))\n",
    "df_with_nans.Age = handled_missing_Y"
   ]
  },
  {
   "cell_type": "code",
   "execution_count": null,
   "id": "d38c8239",
   "metadata": {},
   "outputs": [],
   "source": [
    "df_with_nans"
   ]
  }
 ],
 "metadata": {
  "kernelspec": {
   "display_name": "Python 3",
   "language": "python",
   "name": "python3"
  },
  "language_info": {
   "codemirror_mode": {
    "name": "ipython",
    "version": 3
   },
   "file_extension": ".py",
   "mimetype": "text/x-python",
   "name": "python",
   "nbconvert_exporter": "python",
   "pygments_lexer": "ipython3",
   "version": "3.7.10"
  }
 },
 "nbformat": 4,
 "nbformat_minor": 5
}
