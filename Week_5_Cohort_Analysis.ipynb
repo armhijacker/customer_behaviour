{
 "cells": [
  {
   "cell_type": "markdown",
   "metadata": {},
   "source": [
    "#  Cohort Analysis: Exploring Consumer Behavior Over Time "
   ]
  },
  {
   "cell_type": "markdown",
   "metadata": {},
   "source": [
    "**What is  cohort analysis?**\n",
    "\n",
    "Cohort is a group of people who share similar characteristics.  \n",
    "Cohort analysis is a type of behavioral analytics in which we group our users based on their common characteristics within a defined time-span to better track and understand their actions. In cohort analysis, we compare the behavior of customers or users over a period of time. Data can be obtained from a variety of sources such as ecommerce, product websites, mobile apps, business sales databases. We can then turn raw data into a valuable visualization that shows the current state of the business, product, or specific feature.\n",
    "\n",
    "\n",
    "The first step in conducting cohort analysis is to select a key indicator, a metric that will become the main tool of our research. Based on the purpose of the cohort analysis, we can use the retention rate, churn rate, product sales number, transactions, app install number, etc.     \n",
    "\n",
    "\n",
    "Cohort analysis is a simple tool for identifying the most important and hidden problems in a product or business. For example, the number of users of a certain product never changes, and we take this information as a very good indicator of the state of the business. However, cohort analysis shows that every day there are a huge number of new users who sign up, start using the product within an hour, and then they churn. We now look at the same information from a different perspective and understand that we may need to improve user experience, product quality, market targeting, and more. \n",
    "\n",
    "As a result of cohort analysis, we measure how many users stayed (engagement) instead of how many users came (growth) in a given time span.\n",
    "In short, cohort analysis helps us separate growth metrics from engagement metrics. \n",
    "\n",
    "<br>\n",
    "\n",
    "**Types of cohort analysis**\n",
    "<br><br>\n",
    "There are two types of cohort analysis. We'll dive deeper into each of them while coding.\n",
    "<br>\n",
    "1. Acquisition cohorts: Groups divided based on when they signed up for your product\n",
    "2. Behavioral cohorts: Groups divided based on their behaviors and actions in your product"
   ]
  },
  {
   "cell_type": "markdown",
   "metadata": {},
   "source": [
    "![alt text](docs/cohort.png \"Cohort Image\")"
   ]
  },
  {
   "cell_type": "markdown",
   "metadata": {},
   "source": [
    "Image from: https://clevertap.com/blog/cohort-analysis/"
   ]
  },
  {
   "cell_type": "markdown",
   "metadata": {},
   "source": [
    "There are two ways to read cohort table:\n",
    "1. User lifetime perspective (vertically to)\n",
    "2. Product lifetime perspective (horizontally to right)  \n"
   ]
  },
  {
   "cell_type": "markdown",
   "metadata": {},
   "source": [
    "### Data"
   ]
  },
  {
   "cell_type": "markdown",
   "metadata": {},
   "source": [
    "For cohort analysis, we will use the cleaned data from the previous lesson."
   ]
  },
  {
   "cell_type": "code",
   "execution_count": null,
   "metadata": {},
   "outputs": [],
   "source": [
    "import pandas as pd\n",
    "import matplotlib.pyplot as plt\n",
    "import seaborn as sns\n",
    "import matplotlib.colors as mcolors\n",
    "import re\n",
    "import numpy as np"
   ]
  },
  {
   "cell_type": "code",
   "execution_count": null,
   "metadata": {},
   "outputs": [],
   "source": [
    "data = pd.read_csv('data/data_cleared.csv')\n",
    "data.shape"
   ]
  },
  {
   "cell_type": "markdown",
   "metadata": {},
   "source": [
    "First, we need to transform our data for cohort analysis. For this, we are going to create an order level dataset, that is, each row will represent single order.\n",
    "For the analysis, we must have two variables: customer ids and invoice dates. \n",
    "For behavioral analysis, we can add the total price, the number of items customer has bought, and the total number of items. "
   ]
  },
  {
   "cell_type": "code",
   "execution_count": null,
   "metadata": {},
   "outputs": [],
   "source": [
    "# data.InvoiceDate.dt.month\n",
    "data['InvoiceDate'] = pd.to_datetime(data['InvoiceDate'])\n",
    "data['PurchaseMonth'] = data['InvoiceDate'].dt.to_period(\"M\")"
   ]
  },
  {
   "cell_type": "code",
   "execution_count": null,
   "metadata": {},
   "outputs": [],
   "source": [
    "data.info()"
   ]
  },
  {
   "cell_type": "code",
   "execution_count": null,
   "metadata": {},
   "outputs": [],
   "source": [
    "# x = data.groupby(by=['CustomerID', 'PurchaseMonth'], as_index=False)['PurchaseMonth'].count()\n",
    "# x[x['CustomerID']==12347]"
   ]
  },
  {
   "cell_type": "code",
   "execution_count": null,
   "metadata": {},
   "outputs": [],
   "source": [
    "grouped = data.groupby(['CustomerID', 'PurchaseMonth'], as_index=False).agg({'InvoiceNo' : 'count', \n",
    "                                                                             'Quantity' : 'sum', \n",
    "                                                                             'TotalPrice' : 'mean'})\n",
    "grouped['CustomerID'] = grouped['CustomerID'].astype('O')\n",
    "grouped.sort_values(by=['PurchaseMonth', 'CustomerID'], inplace=True)\n",
    "grouped.head()"
   ]
  },
  {
   "cell_type": "code",
   "execution_count": null,
   "metadata": {},
   "outputs": [],
   "source": [
    "grouped.info()"
   ]
  },
  {
   "cell_type": "code",
   "execution_count": null,
   "metadata": {},
   "outputs": [],
   "source": [
    "# New dataset description\n",
    "plt.figure(figsize=(8, 6))\n",
    "ax = sns.countplot(x=grouped['PurchaseMonth'])\n",
    "ax.set(title='Number of customers per each date',\n",
    "       xlabel='Period', \n",
    "       ylabel='Number of customers');\n",
    "var = plt.xticks(rotation = 70)"
   ]
  },
  {
   "cell_type": "code",
   "execution_count": null,
   "metadata": {},
   "outputs": [],
   "source": [
    "grouped['FirstPurchaseMonth'] = grouped.groupby('CustomerID')['PurchaseMonth'].transform('min')\n",
    "print(grouped[grouped['CustomerID']==12347.0])\n",
    "grouped.head(25)"
   ]
  },
  {
   "cell_type": "markdown",
   "metadata": {},
   "source": [
    "The main problem with our dataset is that we have no historical data. This means, we have to consider the user's first purchase date  as the date he first came to us. In other words, the first purchase we see in this dataset may not be the actual first purchase of a given customer. However, it is impossible to verify this without access to the entire set of historical data of the retailer."
   ]
  },
  {
   "cell_type": "markdown",
   "metadata": {},
   "source": [
    "We then aggregate the data for the month of purchase and the month of the first purchase and count the number of unique customers in each group. In addition, we add Period Number that indicates the number of periods between the month of the cohort and the month of purchase."
   ]
  },
  {
   "cell_type": "code",
   "execution_count": null,
   "metadata": {},
   "outputs": [],
   "source": [
    "cohorts = grouped.groupby(['PurchaseMonth', 'FirstPurchaseMonth'], as_index=False).agg({\"CustomerID\" : 'count'})\n",
    "print(cohorts['PurchaseMonth'] - cohorts['FirstPurchaseMonth'])\n",
    "cohorts['PeriodNumber'] = (cohorts['PurchaseMonth'] - cohorts['FirstPurchaseMonth']).apply(lambda i: i.n)\n",
    "cohorts = cohorts.rename(mapper={'CustomerID': 'CustomersNumber'}, axis='columns')\n",
    "cohorts.head()"
   ]
  },
  {
   "cell_type": "markdown",
   "metadata": {},
   "source": [
    "Next, we create pivot table in a way that each row contains information about a given cohort and each column contains values for a certain period."
   ]
  },
  {
   "cell_type": "code",
   "execution_count": null,
   "metadata": {},
   "outputs": [],
   "source": [
    "cohort_pivot = cohorts.pivot_table(index = 'FirstPurchaseMonth',\n",
    "                                  columns = 'PeriodNumber',\n",
    "                                  values = 'CustomersNumber')\n",
    "\n",
    "cohort_pivot"
   ]
  },
  {
   "cell_type": "markdown",
   "metadata": {},
   "source": [
    "To get the retention matrix, we need to divide each row's values by the first row's value, which is actually the size of the cohort — all customers who made their first purchase on a given month."
   ]
  },
  {
   "cell_type": "code",
   "execution_count": null,
   "metadata": {},
   "outputs": [],
   "source": [
    "cohort_size = cohort_pivot.iloc[:,0]\n",
    "retention_matrix = cohort_pivot.divide(cohort_size, axis = 0)\n",
    "retention_matrix"
   ]
  },
  {
   "cell_type": "markdown",
   "metadata": {},
   "source": [
    "Finally, we're going to visualize the pivot tables to better understand the current state of customer retention."
   ]
  },
  {
   "cell_type": "code",
   "execution_count": null,
   "metadata": {},
   "outputs": [],
   "source": [
    "plt.figure(num=None, figsize=(10, 8), dpi=80, facecolor='w', edgecolor='k')\n",
    "sns.heatmap(cohort_pivot, mask=cohort_pivot.isnull(), annot=True, cmap='RdYlGn' , fmt='g' )\n",
    "plt.title('Monthly cohort of customers number')\n",
    "plt.xlabel(\"Period Number'\")\n",
    "var = plt.ylabel(\"Month of Purchase\")"
   ]
  },
  {
   "cell_type": "code",
   "execution_count": null,
   "metadata": {},
   "outputs": [],
   "source": [
    "plt.figure(num=None, figsize=(10, 8), dpi=80, facecolor='w', edgecolor='k')\n",
    "sns.heatmap(retention_matrix, mask=cohort_pivot.isnull(), annot=True, cmap='RdYlGn' , fmt='.0%' )\n",
    "plt.title('Monthly cohort of customers retention')\n",
    "plt.xlabel(\"Period Number'\")\n",
    "var = plt.ylabel(\"Month of Purchase\")"
   ]
  },
  {
   "cell_type": "markdown",
   "metadata": {},
   "source": [
    "Great job! For further analysis, we can use other variables to understand customer retention behavior. For example, the average expenses of a given cohort or the number of products purchased for a specific month. Let's look at one of them."
   ]
  },
  {
   "cell_type": "code",
   "execution_count": null,
   "metadata": {},
   "outputs": [],
   "source": [
    "cohorts_behavior = grouped.groupby(['PurchaseMonth', 'FirstPurchaseMonth'], as_index=False).agg({\"TotalPrice\" : 'mean'})\n",
    "cohorts_behavior['PeriodNumber'] = (cohorts['PurchaseMonth'] - cohorts['FirstPurchaseMonth']).apply(lambda i: i.n)\n",
    "cohorts_behavior = cohorts_behavior.rename(mapper={'TotalPrice': 'AverageSpendings'}, axis='columns')\n",
    "cohorts_behavior.head()"
   ]
  },
  {
   "cell_type": "code",
   "execution_count": null,
   "metadata": {},
   "outputs": [],
   "source": [
    "cohort_pivot2 = cohorts_behavior.pivot_table(index = 'FirstPurchaseMonth',\n",
    "                                  columns = 'PeriodNumber',\n",
    "                                  values = 'AverageSpendings')\n",
    "cohort_pivot2"
   ]
  },
  {
   "cell_type": "code",
   "execution_count": null,
   "metadata": {},
   "outputs": [],
   "source": [
    "cohort_size2 = cohort_pivot2.iloc[:,0]\n",
    "spending_percentage = cohort_pivot2.divide(cohort_size2, axis = 0)\n",
    "spending_percentage"
   ]
  },
  {
   "cell_type": "code",
   "execution_count": null,
   "metadata": {},
   "outputs": [],
   "source": [
    "plt.figure(num=None, figsize=(10, 8), dpi=80, facecolor='w', edgecolor='k')\n",
    "sns.heatmap(spending_percentage, mask=cohort_pivot.isnull(), annot=True, cmap='RdYlGn' , fmt='.0%' )\n",
    "plt.title('Monthly cohort of customers average spendings')\n",
    "plt.xlabel(\"Period Number'\")\n",
    "var = plt.ylabel(\"Month of Purchase\")"
   ]
  },
  {
   "cell_type": "code",
   "execution_count": null,
   "metadata": {},
   "outputs": [],
   "source": []
  }
 ],
 "metadata": {
  "kernelspec": {
   "display_name": "Python 3 (ipykernel)",
   "language": "python",
   "name": "python3"
  },
  "language_info": {
   "codemirror_mode": {
    "name": "ipython",
    "version": 3
   },
   "file_extension": ".py",
   "mimetype": "text/x-python",
   "name": "python",
   "nbconvert_exporter": "python",
   "pygments_lexer": "ipython3",
   "version": "3.9.12"
  }
 },
 "nbformat": 4,
 "nbformat_minor": 4
}
