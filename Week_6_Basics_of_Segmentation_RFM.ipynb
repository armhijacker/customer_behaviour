{
 "cells": [
  {
   "cell_type": "markdown",
   "metadata": {},
   "source": [
    "# Customer Segmentation: RFM"
   ]
  },
  {
   "cell_type": "markdown",
   "metadata": {},
   "source": [
    "#### Customer segmentation is the process of dividing customers into groups based on common characteristics so companies can market to each group effectively and appropriately.\n",
    "\n",
    "**WHY SEGMENTATION?**\n",
    "\n",
    "- It helps in identifying your best and worst customers.\n",
    "- It helps create more customer-oriented strategies for the company.\n",
    "- It improves customer relationships through a better understanding of their needs.\n",
    "- It can show the advantages and disadvantages of the business and products.\n",
    "- It can help create new products and improve old ones based on customer needs.\n",
    "- It improves customer service.\n",
    "- Upsell and cross-sell other products and services."
   ]
  },
  {
   "cell_type": "markdown",
   "metadata": {},
   "source": [
    "### Customer Segmentation using RFM analysis"
   ]
  },
  {
   "cell_type": "markdown",
   "metadata": {},
   "source": [
    "RFM (recency, frequency, monetary) analysis is a marketing technique used to determine quantitatively which customers are the best ones by examining how recently a customer has purchased (recency), how often they purchase (frequency), and how much the customer spends (monetary). RFM analysis is based on the marketing axiom that \"80% of your business comes from 20% of your customers.\""
   ]
  },
  {
   "cell_type": "markdown",
   "metadata": {},
   "source": [
    "![](docs/rfm.png)"
   ]
  },
  {
   "cell_type": "markdown",
   "metadata": {},
   "source": [
    "Image from: https://clevertap.com/blog/rfm-analysis/"
   ]
  },
  {
   "cell_type": "markdown",
   "metadata": {},
   "source": [
    "For this analysis we will use the data set we studied last week on [Find the preprocessing steps here.](https://github.com/LilitYolyan/customer_behavior_analysis/blob/master/Week_2_Data_Preparation_and_EDA.ipynb)"
   ]
  },
  {
   "cell_type": "markdown",
   "metadata": {},
   "source": [
    "### RFM segmentation"
   ]
  },
  {
   "cell_type": "markdown",
   "metadata": {},
   "source": [
    "In the previous analysis, we found out that we have order level data, which means that we have multiple orders from the same customer at the same date and time. In the first step of RFM analysis, we need to transform our dataset to the customer level, where each row represents information about one customer."
   ]
  },
  {
   "cell_type": "code",
   "execution_count": null,
   "metadata": {},
   "outputs": [],
   "source": [
    "import pandas as pd\n",
    "import numpy as np\n",
    "import matplotlib.pyplot as plt\n",
    "import seaborn as sns\n",
    "import datetime\n",
    "\n",
    "%matplotlib inline\n"
   ]
  },
  {
   "cell_type": "code",
   "execution_count": null,
   "metadata": {
    "scrolled": true
   },
   "outputs": [],
   "source": [
    "# Dataset\n",
    "data = pd.read_csv('data/data_cleared.csv')\n",
    "data.head()"
   ]
  },
  {
   "cell_type": "code",
   "execution_count": null,
   "metadata": {},
   "outputs": [],
   "source": [
    "# Create customer level dataset\n",
    "dt = data.groupby(['CustomerID', 'InvoiceDate'], as_index=False)['TotalPrice'].sum().rename(columns={'TotalPrice':'Budget'})\n",
    "# uncomment if as_index=True\n",
    "# pd.DataFrame(dt.head())\n",
    "dt.head()"
   ]
  },
  {
   "cell_type": "code",
   "execution_count": null,
   "metadata": {},
   "outputs": [],
   "source": [
    "dt['InvoiceDate'] = pd.to_datetime(dt['InvoiceDate'])\n",
    "print(\"The last date in our dataset: \", dt.InvoiceDate.max())\n",
    "now = datetime.datetime(2011,12,10)\n",
    "print('The last date to count recency: ', now)"
   ]
  },
  {
   "cell_type": "code",
   "execution_count": null,
   "metadata": {},
   "outputs": [],
   "source": [
    "# datetime.datetime.today()\n",
    "# datetime.datetime.strptime(\"2012-Dec-01\", \"%Y-%b-%d\")\n",
    "# datetime.datetime.strftime"
   ]
  },
  {
   "cell_type": "markdown",
   "metadata": {},
   "source": [
    "- **For Recency**, Calculate the number of days between present date and date of last purchase each customer.\n",
    "- **For Frequency**, Calculate the number of orders for each customer.\n",
    "- **For Monetary**, Calculate sum of purchase price for each customer."
   ]
  },
  {
   "cell_type": "code",
   "execution_count": null,
   "metadata": {},
   "outputs": [],
   "source": [
    "# rfm = dt.groupby(['CustomerID'],as_index=True).agg(\n",
    "#     {\n",
    "#         'InvoiceDate': lambda date: (now - date.max()).days,\n",
    "#         'CustomerID': 'count',\n",
    "#         'Budget': 'sum'})"
   ]
  },
  {
   "cell_type": "code",
   "execution_count": null,
   "metadata": {},
   "outputs": [],
   "source": [
    "rfm = dt.groupby(['CustomerID'], as_index=True).agg(\n",
    "    {\n",
    "        'InvoiceDate': lambda date: (now - date.max()).days,\n",
    "        'CustomerID': 'count',\n",
    "        'Budget': 'sum'}).rename(columns={'InvoiceDate':'recency',\n",
    "            'CustomerID': 'frequency',\n",
    "            'Budget': 'monetary'}).reset_index()"
   ]
  },
  {
   "cell_type": "code",
   "execution_count": null,
   "metadata": {},
   "outputs": [],
   "source": [
    "rfm.describe()"
   ]
  },
  {
   "cell_type": "markdown",
   "metadata": {},
   "source": [
    "If we look closer to the table above, we can notice that up to 0.5 quantiles of the frequency variable are equal to 2. To conduct RFM analysis, the main base of segmenting customers is quantiles, which cannot be done in the \"frequency\" column. To solve this problem, we will have 3 groups: up to 0.5 quantiles, from 0.5 to 0.75, from 0.75 to 1."
   ]
  },
  {
   "cell_type": "markdown",
   "metadata": {},
   "source": [
    "**RFM features**"
   ]
  },
  {
   "cell_type": "code",
   "execution_count": null,
   "metadata": {},
   "outputs": [],
   "source": [
    "sns.distplot(rfm.recency)\n",
    "plt.axvline(rfm.recency.mean(), color='k', linestyle='dashed', linewidth=1)\n",
    "plt.axvline(rfm.recency.median(), color='r', linewidth=1)\n",
    "plt.title('Distribution of Recency')\n",
    "plt.xlabel(\"Recency\")"
   ]
  },
  {
   "cell_type": "markdown",
   "metadata": {},
   "source": [
    "Here, we can see that we have right skewness in distribution. The median is somewhere around 50. Therefore we can make two assumptions:\n",
    "\n",
    "1. Many customers recently made their first purchase\n",
    "2. On average, customers return within 50 days.\n",
    "\n",
    "Most likely, in the skewed edge of the distribution are customers who churn."
   ]
  },
  {
   "cell_type": "code",
   "execution_count": null,
   "metadata": {},
   "outputs": [],
   "source": [
    "sns.distplot(rfm.frequency)\n",
    "plt.axvline(rfm.frequency.mean(), color='k', linestyle='dashed', linewidth=1)\n",
    "plt.axvline(rfm.frequency.median(), color='r', linewidth=1)\n",
    "plt.title('Distribution of Frequency')\n",
    "plt.xlabel(\"Frequency\")"
   ]
  },
  {
   "cell_type": "markdown",
   "metadata": {},
   "source": [
    "Again, we have high skewness here. Only few customers purchased often than 25 times. On average, customers make purchases only twice in a lifetime."
   ]
  },
  {
   "cell_type": "code",
   "execution_count": null,
   "metadata": {},
   "outputs": [],
   "source": [
    "sns.distplot(rfm.monetary)\n",
    "plt.axvline(rfm.monetary.mean(), color='k', linestyle='dashed', linewidth=1)\n",
    "plt.axvline(rfm.monetary.median(), color='r', linewidth=1)\n",
    "plt.title('Distribution of Monetary value')\n",
    "plt.xlabel(\"Monetary value\")"
   ]
  },
  {
   "cell_type": "markdown",
   "metadata": {},
   "source": [
    "Like frequency values, some customers spend large amount of money on our products, however on average customers spend 666 pounds per order."
   ]
  },
  {
   "cell_type": "markdown",
   "metadata": {},
   "source": [
    "**Computing Quantile of RFM values**"
   ]
  },
  {
   "cell_type": "code",
   "execution_count": null,
   "metadata": {},
   "outputs": [],
   "source": [
    "rfm['r_quartile'] = pd.qcut(rfm['recency'], 4, ['1','2','3','4'])\n",
    "# In the frequency column, we manually change the quantiles to solve the problem described above.\n",
    "rfm['f_quartile'] = pd.qcut(rfm['frequency'], [0, .5, .75,  1], ['3', '2', '1']) \n",
    "rfm['m_quartile'] = pd.qcut(rfm['monetary'], 4, ['4','3','2','1'])"
   ]
  },
  {
   "cell_type": "code",
   "execution_count": null,
   "metadata": {},
   "outputs": [],
   "source": [
    "# Playgraound\n",
    "# pd.qcut(rfm['recency'], 4, ['group 1 customer','group 2 customer','group 3 customer','group 4 customer'])"
   ]
  },
  {
   "cell_type": "code",
   "execution_count": null,
   "metadata": {},
   "outputs": [],
   "source": [
    "rfm.head()"
   ]
  },
  {
   "cell_type": "markdown",
   "metadata": {},
   "source": [
    "**RFM Result Interpretation**"
   ]
  },
  {
   "cell_type": "code",
   "execution_count": null,
   "metadata": {},
   "outputs": [],
   "source": [
    "rfm['RFM_Score'] = rfm.r_quartile.astype(str) + rfm.f_quartile.astype(str) + rfm.m_quartile.astype(str)\n",
    "rfm.head(30)"
   ]
  },
  {
   "cell_type": "code",
   "execution_count": null,
   "metadata": {},
   "outputs": [],
   "source": [
    "results = rfm.groupby('RFM_Score', as_index=False)['CustomerID'].count()\n",
    "sorted_results = results.rename(columns={'CustomerID': 'Customers'}).sort_values('Customers', ascending=False)\n",
    "show_top_x = 10\n",
    "tops = sorted_results.head(show_top_x)\n",
    "sns.barplot(tops.RFM_Score, tops.Customers)\n",
    "plt.title(f'Top {show_top_x} largest segments')"
   ]
  },
  {
   "cell_type": "markdown",
   "metadata": {},
   "source": [
    "We have very interesting results. As you can see, the two largest segments are our best and worst segments. On the one hand, we have a lot of loyal customers who are willing to spend more money on our products(111), and on the other hand, we have a large group of customers who have the shortest lifespan and are likely to churn soon.(434).\n",
    "<br>\n",
    "<br>\n",
    "\n",
    "This information can be used by managers, marketers and salespeople to improve their actions in a more customer-centric way.\n",
    "<br>\n",
    "<br>\n",
    "Food for thought, what other assumptions can we make about this segmentation? "
   ]
  }
 ],
 "metadata": {
  "kernelspec": {
   "display_name": "Python 3 (ipykernel)",
   "language": "python",
   "name": "python3"
  },
  "language_info": {
   "codemirror_mode": {
    "name": "ipython",
    "version": 3
   },
   "file_extension": ".py",
   "mimetype": "text/x-python",
   "name": "python",
   "nbconvert_exporter": "python",
   "pygments_lexer": "ipython3",
   "version": "3.9.12"
  }
 },
 "nbformat": 4,
 "nbformat_minor": 2
}
